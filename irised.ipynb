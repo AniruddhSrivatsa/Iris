{
  "nbformat": 4,
  "nbformat_minor": 0,
  "metadata": {
    "colab": {
      "name": "irised.ipynb",
      "provenance": []
    },
    "kernelspec": {
      "name": "python3",
      "display_name": "Python 3"
    }
  },
  "cells": [
    {
      "cell_type": "code",
      "metadata": {
        "id": "OiQ_ju84iwXp"
      },
      "source": [
        "from sklearn.datasets import load_iris\r\n",
        "iris= load_iris()\r\n",
        "# Store features matrix in X\r\n",
        "X= iris.data\r\n",
        "#Store target vector in \r\n",
        "y= iris.target"
      ],
      "execution_count": 1,
      "outputs": []
    },
    {
      "cell_type": "code",
      "metadata": {
        "id": "M2AwYZrGvEUU"
      },
      "source": [
        "import pickle"
      ],
      "execution_count": 21,
      "outputs": []
    },
    {
      "cell_type": "code",
      "metadata": {
        "id": "nfru4Kcni37l"
      },
      "source": [
        "from sklearn.model_selection import train_test_split as tts\r\n",
        "X_train,X_test,y_train,y_test = tts(X, y, test_size = 0.2, random_state = 0,stratify=y)"
      ],
      "execution_count": 2,
      "outputs": []
    },
    {
      "cell_type": "code",
      "metadata": {
        "colab": {
          "base_uri": "https://localhost:8080/"
        },
        "id": "04S9QKF2i_AT",
        "outputId": "9f98964f-ed0b-4db7-a1ff-d15bd5fe1732"
      },
      "source": [
        "print(X_train.shape)\r\n",
        "print(X_test.shape)\r\n",
        "print(y_train.shape)\r\n",
        "print(y_test.shape)"
      ],
      "execution_count": 3,
      "outputs": [
        {
          "output_type": "stream",
          "text": [
            "(120, 4)\n",
            "(30, 4)\n",
            "(120,)\n",
            "(30,)\n"
          ],
          "name": "stdout"
        }
      ]
    },
    {
      "cell_type": "code",
      "metadata": {
        "colab": {
          "base_uri": "https://localhost:8080/"
        },
        "id": "N9y0PYgnjGTx",
        "outputId": "697b3d58-677c-401f-ee52-1558f6864791"
      },
      "source": [
        "from sklearn.neighbors import KNeighborsClassifier\r\n",
        "from sklearn.metrics import accuracy_score\r\n",
        "knn = KNeighborsClassifier(6)\r\n",
        "knn.fit(X_train, y_train)\r\n",
        "y_pred = knn.predict(X_test)\r\n",
        "print(accuracy_score(y_test, y_pred))"
      ],
      "execution_count": 9,
      "outputs": [
        {
          "output_type": "stream",
          "text": [
            "1.0\n"
          ],
          "name": "stdout"
        }
      ]
    },
    {
      "cell_type": "code",
      "metadata": {
        "id": "YQtYZ2TvjWxl"
      },
      "source": [
        "knn_fin = KNeighborsClassifier(10)\r\n",
        "knn_fin = knn_fin.fit(X,y)"
      ],
      "execution_count": 10,
      "outputs": []
    },
    {
      "cell_type": "code",
      "metadata": {
        "id": "lesNyUimjeMs"
      },
      "source": [
        "filename = 'knn_model.pkl'\r\n",
        "pickle.dump(knn_fin, open(filename, 'wb'))"
      ],
      "execution_count": 18,
      "outputs": []
    }
  ]
}